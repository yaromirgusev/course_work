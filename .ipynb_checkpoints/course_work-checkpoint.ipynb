{
 "cells": [
  {
   "cell_type": "markdown",
   "id": "c4ad2f60",
   "metadata": {},
   "source": [
    "# Гусев Яромир ПМ22-6"
   ]
  },
  {
   "cell_type": "markdown",
   "id": "68a05233",
   "metadata": {},
   "source": [
    "# Машинное обучение в задачах идентификации личности по изображению"
   ]
  },
  {
   "cell_type": "code",
   "execution_count": 24,
   "id": "c9769dd9",
   "metadata": {},
   "outputs": [],
   "source": [
    "import pandas as pd\n",
    "import numpy as np\n",
    "import matplotlib.pyplot as plt\n",
    "import cv2\n",
    "import os\n",
    "from skimage.feature import hog, local_binary_pattern\n",
    "from skimage import exposure\n",
    "from PIL import Image\n",
    "from tqdm import tqdm, trange"
   ]
  },
  {
   "cell_type": "code",
   "execution_count": 4,
   "id": "65799747",
   "metadata": {},
   "outputs": [
    {
     "data": {
      "text/html": [
       "<div>\n",
       "<style scoped>\n",
       "    .dataframe tbody tr th:only-of-type {\n",
       "        vertical-align: middle;\n",
       "    }\n",
       "\n",
       "    .dataframe tbody tr th {\n",
       "        vertical-align: top;\n",
       "    }\n",
       "\n",
       "    .dataframe thead th {\n",
       "        text-align: right;\n",
       "    }\n",
       "</style>\n",
       "<table border=\"1\" class=\"dataframe\">\n",
       "  <thead>\n",
       "    <tr style=\"text-align: right;\">\n",
       "      <th></th>\n",
       "      <th>images</th>\n",
       "      <th>img_counts</th>\n",
       "    </tr>\n",
       "  </thead>\n",
       "  <tbody>\n",
       "    <tr>\n",
       "      <th>0</th>\n",
       "      <td>[000001.jpg, 000404.jpg, 003415.jpg, 004390.jp...</td>\n",
       "      <td>30</td>\n",
       "    </tr>\n",
       "    <tr>\n",
       "      <th>1</th>\n",
       "      <td>[000002.jpg, 011437.jpg, 016335.jpg, 017121.jp...</td>\n",
       "      <td>30</td>\n",
       "    </tr>\n",
       "    <tr>\n",
       "      <th>2</th>\n",
       "      <td>[000003.jpg, 015648.jpg, 033840.jpg, 038887.jp...</td>\n",
       "      <td>30</td>\n",
       "    </tr>\n",
       "    <tr>\n",
       "      <th>3</th>\n",
       "      <td>[000004.jpg, 001778.jpg, 010191.jpg, 013676.jp...</td>\n",
       "      <td>30</td>\n",
       "    </tr>\n",
       "    <tr>\n",
       "      <th>4</th>\n",
       "      <td>[000005.jpg, 008431.jpg, 014427.jpg, 016680.jp...</td>\n",
       "      <td>25</td>\n",
       "    </tr>\n",
       "    <tr>\n",
       "      <th>...</th>\n",
       "      <td>...</td>\n",
       "      <td>...</td>\n",
       "    </tr>\n",
       "    <tr>\n",
       "      <th>495</th>\n",
       "      <td>[000515.jpg, 005410.jpg, 020137.jpg, 024989.jp...</td>\n",
       "      <td>20</td>\n",
       "    </tr>\n",
       "    <tr>\n",
       "      <th>496</th>\n",
       "      <td>[000516.jpg, 033078.jpg, 058354.jpg, 059067.jp...</td>\n",
       "      <td>22</td>\n",
       "    </tr>\n",
       "    <tr>\n",
       "      <th>497</th>\n",
       "      <td>[000517.jpg, 001649.jpg, 029332.jpg, 034151.jp...</td>\n",
       "      <td>22</td>\n",
       "    </tr>\n",
       "    <tr>\n",
       "      <th>498</th>\n",
       "      <td>[000518.jpg, 001543.jpg, 003209.jpg, 008966.jp...</td>\n",
       "      <td>30</td>\n",
       "    </tr>\n",
       "    <tr>\n",
       "      <th>499</th>\n",
       "      <td>[000519.jpg, 004754.jpg, 005061.jpg, 007359.jp...</td>\n",
       "      <td>28</td>\n",
       "    </tr>\n",
       "  </tbody>\n",
       "</table>\n",
       "<p>500 rows × 2 columns</p>\n",
       "</div>"
      ],
      "text/plain": [
       "                                                images  img_counts\n",
       "0    [000001.jpg, 000404.jpg, 003415.jpg, 004390.jp...          30\n",
       "1    [000002.jpg, 011437.jpg, 016335.jpg, 017121.jp...          30\n",
       "2    [000003.jpg, 015648.jpg, 033840.jpg, 038887.jp...          30\n",
       "3    [000004.jpg, 001778.jpg, 010191.jpg, 013676.jp...          30\n",
       "4    [000005.jpg, 008431.jpg, 014427.jpg, 016680.jp...          25\n",
       "..                                                 ...         ...\n",
       "495  [000515.jpg, 005410.jpg, 020137.jpg, 024989.jp...          20\n",
       "496  [000516.jpg, 033078.jpg, 058354.jpg, 059067.jp...          22\n",
       "497  [000517.jpg, 001649.jpg, 029332.jpg, 034151.jp...          22\n",
       "498  [000518.jpg, 001543.jpg, 003209.jpg, 008966.jp...          30\n",
       "499  [000519.jpg, 004754.jpg, 005061.jpg, 007359.jp...          28\n",
       "\n",
       "[500 rows x 2 columns]"
      ]
     },
     "execution_count": 4,
     "metadata": {},
     "output_type": "execute_result"
    }
   ],
   "source": [
    "f = open('celebA_500/celebA_anno.txt')\n",
    "lines = f.readlines()\n",
    "dict1 = dict()\n",
    "for i in range(0,500):\n",
    "    dict1[i] = []\n",
    "for i in lines:\n",
    "    z = i.split()\n",
    "    dict1[int(z[1])].append(z[0])\n",
    "\n",
    "a = {1:[2,3]}\n",
    "names = [dict1[i] for i in dict1]\n",
    "cnts = [len(dict1[i]) for i in dict1]\n",
    "df = pd.DataFrame({'images':names,'img_counts':cnts})\n",
    "df"
   ]
  },
  {
   "cell_type": "code",
   "execution_count": 5,
   "id": "282e6a43",
   "metadata": {},
   "outputs": [
    {
     "data": {
      "image/png": "[encoded data removed]",
      "text/plain": [
       "<Figure size 640x480 with 1 Axes>"
      ]
     },
     "metadata": {},
     "output_type": "display_data"
    }
   ],
   "source": [
    "df['img_counts'].hist();"
   ]
  },
  {
   "cell_type": "code",
   "execution_count": 37,
   "id": "0388aec6",
   "metadata": {},
   "outputs": [
    {
     "name": "stderr",
     "output_type": "stream",
     "text": [
      "100%|██████████████████████████████████████████████████████████████████████████| 23948/23948 [00:22<00:00, 1086.11it/s]\n"
     ]
    }
   ],
   "source": [
    "def load_images_from_folder(folder):\n",
    "    images = []\n",
    "    filenames = []\n",
    "    for filename in tqdm(os.listdir(folder)):\n",
    "        img = cv2.imread(os.path.join(folder, filename))\n",
    "        if img is not None:\n",
    "            images.append(img)\n",
    "            filenames.append(filename)\n",
    "    return images, filenames\n",
    "\n",
    "\n",
    "folder = 'celebA_500/celebA_imgs'\n",
    "images, filenames = load_images_from_folder(folder)"
   ]
  },
  {
   "cell_type": "code",
   "execution_count": 36,
   "id": "8257a15b",
   "metadata": {},
   "outputs": [
    {
     "name": "stderr",
     "output_type": "stream",
     "text": [
      " 10%|███████▊                                                                     | 2437/23948 [00:29<04:19, 82.84it/s]\n"
     ]
    },
    {
     "ename": "KeyboardInterrupt",
     "evalue": "",
     "output_type": "error",
     "traceback": [
      "\u001b[1;31m---------------------------------------------------------------------------\u001b[0m",
      "\u001b[1;31mKeyboardInterrupt\u001b[0m                         Traceback (most recent call last)",
      "Cell \u001b[1;32mIn[36], line 42\u001b[0m\n\u001b[0;32m     38\u001b[0m     features_df \u001b[38;5;241m=\u001b[39m pd\u001b[38;5;241m.\u001b[39mDataFrame(all_features)  \u001b[38;5;66;03m# Преобразуем список в DataFrame\u001b[39;00m\n\u001b[0;32m     40\u001b[0m     \u001b[38;5;28;01mreturn\u001b[39;00m features_df\n\u001b[1;32m---> 42\u001b[0m X \u001b[38;5;241m=\u001b[39m extract_features(images)\n",
      "Cell \u001b[1;32mIn[36], line 22\u001b[0m, in \u001b[0;36mextract_features\u001b[1;34m(images)\u001b[0m\n\u001b[0;32m     20\u001b[0m \u001b[38;5;66;03m#         Статистические признаки\u001b[39;00m\n\u001b[0;32m     21\u001b[0m         mean \u001b[38;5;241m=\u001b[39m np\u001b[38;5;241m.\u001b[39mmean(img, axis\u001b[38;5;241m=\u001b[39m(\u001b[38;5;241m0\u001b[39m, \u001b[38;5;241m1\u001b[39m))\n\u001b[1;32m---> 22\u001b[0m         std \u001b[38;5;241m=\u001b[39m np\u001b[38;5;241m.\u001b[39mstd(img, axis\u001b[38;5;241m=\u001b[39m(\u001b[38;5;241m0\u001b[39m, \u001b[38;5;241m1\u001b[39m))\n\u001b[0;32m     23\u001b[0m         max_ \u001b[38;5;241m=\u001b[39m np\u001b[38;5;241m.\u001b[39mmax(img, axis\u001b[38;5;241m=\u001b[39m(\u001b[38;5;241m0\u001b[39m, \u001b[38;5;241m1\u001b[39m))\n\u001b[0;32m     24\u001b[0m         min_ \u001b[38;5;241m=\u001b[39m np\u001b[38;5;241m.\u001b[39mmin(img, axis\u001b[38;5;241m=\u001b[39m(\u001b[38;5;241m0\u001b[39m, \u001b[38;5;241m1\u001b[39m))\n",
      "File \u001b[1;32m<__array_function__ internals>:200\u001b[0m, in \u001b[0;36mstd\u001b[1;34m(*args, **kwargs)\u001b[0m\n",
      "File \u001b[1;32mQ:\\anaconda\\Lib\\site-packages\\numpy\\core\\fromnumeric.py:3605\u001b[0m, in \u001b[0;36mstd\u001b[1;34m(a, axis, dtype, out, ddof, keepdims, where)\u001b[0m\n\u001b[0;32m   3602\u001b[0m     \u001b[38;5;28;01melse\u001b[39;00m:\n\u001b[0;32m   3603\u001b[0m         \u001b[38;5;28;01mreturn\u001b[39;00m std(axis\u001b[38;5;241m=\u001b[39maxis, dtype\u001b[38;5;241m=\u001b[39mdtype, out\u001b[38;5;241m=\u001b[39mout, ddof\u001b[38;5;241m=\u001b[39mddof, \u001b[38;5;241m*\u001b[39m\u001b[38;5;241m*\u001b[39mkwargs)\n\u001b[1;32m-> 3605\u001b[0m \u001b[38;5;28;01mreturn\u001b[39;00m _methods\u001b[38;5;241m.\u001b[39m_std(a, axis\u001b[38;5;241m=\u001b[39maxis, dtype\u001b[38;5;241m=\u001b[39mdtype, out\u001b[38;5;241m=\u001b[39mout, ddof\u001b[38;5;241m=\u001b[39mddof,\n\u001b[0;32m   3606\u001b[0m                      \u001b[38;5;241m*\u001b[39m\u001b[38;5;241m*\u001b[39mkwargs)\n",
      "File \u001b[1;32mQ:\\anaconda\\Lib\\site-packages\\numpy\\core\\_methods.py:269\u001b[0m, in \u001b[0;36m_std\u001b[1;34m(a, axis, dtype, out, ddof, keepdims, where)\u001b[0m\n\u001b[0;32m    267\u001b[0m \u001b[38;5;28;01mdef\u001b[39;00m \u001b[38;5;21m_std\u001b[39m(a, axis\u001b[38;5;241m=\u001b[39m\u001b[38;5;28;01mNone\u001b[39;00m, dtype\u001b[38;5;241m=\u001b[39m\u001b[38;5;28;01mNone\u001b[39;00m, out\u001b[38;5;241m=\u001b[39m\u001b[38;5;28;01mNone\u001b[39;00m, ddof\u001b[38;5;241m=\u001b[39m\u001b[38;5;241m0\u001b[39m, keepdims\u001b[38;5;241m=\u001b[39m\u001b[38;5;28;01mFalse\u001b[39;00m, \u001b[38;5;241m*\u001b[39m,\n\u001b[0;32m    268\u001b[0m          where\u001b[38;5;241m=\u001b[39m\u001b[38;5;28;01mTrue\u001b[39;00m):\n\u001b[1;32m--> 269\u001b[0m     ret \u001b[38;5;241m=\u001b[39m _var(a, axis\u001b[38;5;241m=\u001b[39maxis, dtype\u001b[38;5;241m=\u001b[39mdtype, out\u001b[38;5;241m=\u001b[39mout, ddof\u001b[38;5;241m=\u001b[39mddof,\n\u001b[0;32m    270\u001b[0m                keepdims\u001b[38;5;241m=\u001b[39mkeepdims, where\u001b[38;5;241m=\u001b[39mwhere)\n\u001b[0;32m    272\u001b[0m     \u001b[38;5;28;01mif\u001b[39;00m \u001b[38;5;28misinstance\u001b[39m(ret, mu\u001b[38;5;241m.\u001b[39mndarray):\n\u001b[0;32m    273\u001b[0m         ret \u001b[38;5;241m=\u001b[39m um\u001b[38;5;241m.\u001b[39msqrt(ret, out\u001b[38;5;241m=\u001b[39mret)\n",
      "File \u001b[1;32mQ:\\anaconda\\Lib\\site-packages\\numpy\\core\\_methods.py:236\u001b[0m, in \u001b[0;36m_var\u001b[1;34m(a, axis, dtype, out, ddof, keepdims, where)\u001b[0m\n\u001b[0;32m    231\u001b[0m     arrmean \u001b[38;5;241m=\u001b[39m arrmean \u001b[38;5;241m/\u001b[39m rcount\n\u001b[0;32m    233\u001b[0m \u001b[38;5;66;03m# Compute sum of squared deviations from mean\u001b[39;00m\n\u001b[0;32m    234\u001b[0m \u001b[38;5;66;03m# Note that x may not be inexact and that we need it to be an array,\u001b[39;00m\n\u001b[0;32m    235\u001b[0m \u001b[38;5;66;03m# not a scalar.\u001b[39;00m\n\u001b[1;32m--> 236\u001b[0m x \u001b[38;5;241m=\u001b[39m asanyarray(arr \u001b[38;5;241m-\u001b[39m arrmean)\n\u001b[0;32m    238\u001b[0m \u001b[38;5;28;01mif\u001b[39;00m \u001b[38;5;28missubclass\u001b[39m(arr\u001b[38;5;241m.\u001b[39mdtype\u001b[38;5;241m.\u001b[39mtype, (nt\u001b[38;5;241m.\u001b[39mfloating, nt\u001b[38;5;241m.\u001b[39minteger)):\n\u001b[0;32m    239\u001b[0m     x \u001b[38;5;241m=\u001b[39m um\u001b[38;5;241m.\u001b[39mmultiply(x, x, out\u001b[38;5;241m=\u001b[39mx)\n",
      "\u001b[1;31mKeyboardInterrupt\u001b[0m: "
     ]
    }
   ],
   "source": [
    "def extract_features(images):\n",
    "    all_features = []\n",
    "    \n",
    "    for img in tqdm(images):\n",
    "        hist_features = []\n",
    "        for i in range(3):  # Для каждого канала цвета\n",
    "            hist = cv2.calcHist([img], [i], None, [256], [0, 256])\n",
    "            hist_features.extend(hist.flatten())\n",
    "        \n",
    "        # HOG features\n",
    "#         fd, hog_image = hog(img, orientations=8, pixels_per_cell=(16, 16),\n",
    "#                             cells_per_block=(1, 1), visualize=True, channel_axis=-1)\n",
    "        \n",
    "#         LBP features\n",
    "        lbp = local_binary_pattern(cv2.cvtColor(img, cv2.COLOR_BGR2GRAY), 8, 1, method='uniform')\n",
    "        lbp_hist, _ = np.histogram(lbp.ravel(), bins=np.arange(0, 27), range=(0, 26))\n",
    "        lbp_hist = lbp_hist.astype(\"float\")\n",
    "        lbp_hist /= (lbp_hist.sum() + 1e-6)  # Normalize\n",
    "        \n",
    "#         Статистические признаки\n",
    "        mean = np.mean(img, axis=(0, 1))\n",
    "        std = np.std(img, axis=(0, 1))\n",
    "        max_ = np.max(img, axis=(0, 1))\n",
    "        min_ = np.min(img, axis=(0, 1))\n",
    "        \n",
    "        # Объединение признаков\n",
    "        combined_features = np.hstack([\n",
    "            hist_features,\n",
    "#             fd,\n",
    "            lbp_hist,\n",
    "            mean,\n",
    "            std,\n",
    "            max_,\n",
    "            min_\n",
    "        ])\n",
    "        all_features.append(combined_features)\n",
    "        \n",
    "    features_df = pd.DataFrame(all_features)\n",
    "    \n",
    "    return features_df\n",
    "\n",
    "X = extract_features(images)"
   ]
  },
  {
   "cell_type": "code",
   "execution_count": 38,
   "id": "177f5e07",
   "metadata": {},
   "outputs": [
    {
     "data": {
      "text/plain": [
       "15000"
      ]
     },
     "execution_count": 38,
     "metadata": {},
     "output_type": "execute_result"
    }
   ],
   "source": [
    "500*30"
   ]
  },
  {
   "cell_type": "code",
   "execution_count": null,
   "id": "1cc3469d",
   "metadata": {},
   "outputs": [],
   "source": []
  }
 ],
 "metadata": {
  "kernelspec": {
   "display_name": "Python 3 (ipykernel)",
   "language": "python",
   "name": "python3"
  },
  "language_info": {
   "codemirror_mode": {
    "name": "ipython",
    "version": 3
   },
   "file_extension": ".py",
   "mimetype": "text/x-python",
   "name": "python",
   "nbconvert_exporter": "python",
   "pygments_lexer": "ipython3",
   "version": "3.11.5"
  }
 },
 "nbformat": 4,
 "nbformat_minor": 5
}
